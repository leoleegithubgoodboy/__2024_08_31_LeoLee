{
 "cells": [
  {
   "cell_type": "code",
   "execution_count": 2,
   "metadata": {},
   "outputs": [
    {
     "name": "stdout",
     "output_type": "stream",
     "text": [
      "不可以考駕照\n",
      "應用程式結束!\n"
     ]
    }
   ],
   "source": [
    "#if\n",
    "age = 17\n",
    "if age <18:\n",
    "    print(\"不可以考駕照\")\n",
    "else:\n",
    "    print(\"就可以考駕照\")\n",
    "print(\"應用程式結束!\")"
   ]
  },
  {
   "cell_type": "code",
   "execution_count": 20,
   "metadata": {},
   "outputs": [
    {
     "name": "stdout",
     "output_type": "stream",
     "text": [
      "輸入錯誤!\n",
      "應用程式結束!\n"
     ]
    }
   ],
   "source": [
    "try:\n",
    "    score = int(input(\"請輸入學生分數(最高300分):\"))\n",
    "except ValueError:\n",
    "    print(\"輸入格式有錯誤!\")\n",
    "except Exception:\n",
    "    print(\"不知名錯誤!\")\n",
    "else:\n",
    "    is_add = input(\"學生是否符合加分條件(y/n)\")\n",
    "\n",
    "    if is_add == 'y':\n",
    "        score *= 1.05\n",
    "        if score > 300:\n",
    "            score = 300\n",
    "    #print(\"學生分數是 \" + str(score)+ \"分\")\n",
    "    print(f\"學生分數 {score} 分\")  #字串插補\n",
    "\n",
    "print(\"應用程式結束!\")"
   ]
  },
  {
   "cell_type": "code",
   "execution_count": null,
   "metadata": {},
   "outputs": [],
   "source": [
    "try:\n",
    "    score = int(input(\"請輸入學生分數(最高300分):\"))\n",
    "    is_add = input(\"學生是否符合加分條件(y/n)\")\n",
    "    if is_add == 'y':\n",
    "        score *= 1.05\n",
    "        if score > 300:\n",
    "            score = 300\n",
    "    #print(\"學生分數是 \" + str(score)+ \"分\")\n",
    "    print(f\"學生分數 {score} 分\")  #字串插補\n",
    "except ValueError:\n",
    "    print(\"輸入格式有錯誤!\")\n",
    "except Exception:\n",
    "    print(\"不知名錯誤!\")\n",
    "print(\"應用程式結束!\")"
   ]
  }
 ],
 "metadata": {
  "kernelspec": {
   "display_name": "Venv1",
   "language": "python",
   "name": "python3"
  },
  "language_info": {
   "codemirror_mode": {
    "name": "ipython",
    "version": 3
   },
   "file_extension": ".py",
   "mimetype": "text/x-python",
   "name": "python",
   "nbconvert_exporter": "python",
   "pygments_lexer": "ipython3",
   "version": "3.11.9"
  }
 },
 "nbformat": 4,
 "nbformat_minor": 2
}
