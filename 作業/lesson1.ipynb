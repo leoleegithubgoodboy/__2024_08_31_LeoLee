{
 "cells": [
  {
   "cell_type": "code",
   "execution_count": 57,
   "metadata": {},
   "outputs": [
    {
     "name": "stdout",
     "output_type": "stream",
     "text": [
      "輸入格式有錯誤!\n"
     ]
    }
   ],
   "source": [
    "import math\n",
    "try:\n",
    "    Height_cm = int(input(\"請輸入身高(cm):\"))\n",
    "    Weight_kg = int(input(\"請輸入體重(kg)\"))\n",
    "    Height_mm = Height_cm/100.0\n",
    "    BMI = Weight_kg/pow(Height_mm,2)\n",
    "    print(\"你的BMI為{:.1f}\".format(BMI))\n",
    "    if BMI >= 35:\n",
    "        print(\"重度肥胖\")\n",
    "    elif BMI >= 30:\n",
    "        print(\"中度肥胖\")\n",
    "    elif BMI >= 27:\n",
    "        print(\"輕度肥胖\")\n",
    "    elif BMI >= 24:\n",
    "        print(\"過重\")\n",
    "    elif BMI >=18.5:\n",
    "        print(\"正常\")\n",
    "    else:\n",
    "        print(\"過輕\")\n",
    "except ValueError:\n",
    "    print(\"輸入格式有錯誤!\")\n",
    "except Exception as e:\n",
    "    print(f\"錯誤訊息:{e}\")"
   ]
  }
 ],
 "metadata": {
  "kernelspec": {
   "display_name": "Venv1",
   "language": "python",
   "name": "python3"
  },
  "language_info": {
   "codemirror_mode": {
    "name": "ipython",
    "version": 3
   },
   "file_extension": ".py",
   "mimetype": "text/x-python",
   "name": "python",
   "nbconvert_exporter": "python",
   "pygments_lexer": "ipython3",
   "version": "3.11.9"
  }
 },
 "nbformat": 4,
 "nbformat_minor": 2
}
